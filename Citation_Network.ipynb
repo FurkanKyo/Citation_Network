{
 "cells": [
  {
   "cell_type": "code",
   "execution_count": 82,
   "metadata": {
    "collapsed": true
   },
   "outputs": [],
   "source": [
    "import os \n",
    "import json\n",
    "from pprint import pprint\n",
    "\n",
    "\n",
    "dataset_path = '/home/furkan/Desktop/Citation_Datasets/dblp-ref'\n",
    "counter = 0\n",
    "dict_ids = {}\n",
    "id_citedby = {}\n",
    "id_citation_count = {}\n",
    "\n",
    "for file in sorted(os.listdir(dataset_path)):\n",
    "    with open(dataset_path + '/' + file) as data_file:    \n",
    "        for line in data_file:\n",
    "            data = json.loads(line)\n",
    "            try:\n",
    "                if data['year'] >= 2000 and data['year'] <= 2010 and len(data.keys()) >= 7:\n",
    "                    dict_ids[data['id']] = data\n",
    "                    counter += 1\n",
    "                    if 'references' in data.keys():\n",
    "                        for ref in data['references']:\n",
    "                            if ref in id_citedby.keys():\n",
    "                                id_citedby[ref].append(data['id'])\n",
    "                                id_citation_count[ref] += 1\n",
    "                            else:\n",
    "                                id_citedby[ref] = [data['id']]\n",
    "                                id_citation_count[ref] = 1 \n",
    "            except:\n",
    "                print('No year info')"
   ]
  },
  {
   "cell_type": "code",
   "execution_count": 83,
   "metadata": {
    "collapsed": true
   },
   "outputs": [],
   "source": [
    "common_ids = list(set(dict_ids.keys()) & set(id_citation_count.keys()))"
   ]
  },
  {
   "cell_type": "code",
   "execution_count": 84,
   "metadata": {},
   "outputs": [
    {
     "name": "stdout",
     "output_type": "stream",
     "text": [
      "628956\n",
      "934856\n",
      "1063957\n",
      "1063957\n"
     ]
    }
   ],
   "source": [
    "print(len(common_ids)) #number of papers both published and get cited 2000-2010\n",
    "print(len(id_citation_count.keys())) #number of papers cited  2000-2010\n",
    "print(len(dict_ids.keys())) #number of papers published  2000-2010\n",
    "print(counter)"
   ]
  },
  {
   "cell_type": "code",
   "execution_count": 86,
   "metadata": {},
   "outputs": [
    {
     "name": "stdout",
     "output_type": "stream",
     "text": [
      "30685\n"
     ]
    }
   ],
   "source": [
    "#Looking at commmon_ids, filter with total number citations:\n",
    "over_avg_5 = 0\n",
    "avg_citation_id = {}\n",
    "for key in common_ids:\n",
    "    avg_citation_per_year = float(id_citation_count[key]/(2011-int(dict_ids[key]['year'])))\n",
    "    if  avg_citation_per_year >= 5:\n",
    "        over_avg_5 += 1\n",
    "        avg_citation_id[key] = avg_citation_per_year\n",
    "        \n",
    "print(over_avg_5)"
   ]
  },
  {
   "cell_type": "code",
   "execution_count": null,
   "metadata": {
    "collapsed": true
   },
   "outputs": [],
   "source": [
    "#2010>x>2000 and All keys available and avg_citation_per_year >= 10\n",
    "    over_10 = 135527   \n",
    "    over_20 = 59219\n",
    "    over_50 = 15947\n",
    "    over_100 = 5163\n",
    "\n",
    "    over_avg_5 = 30685 **(using this)\n",
    "    over_avg_10 = 9125 \n",
    "\n",
    "\n",
    "\n",
    "#2010>x>2000 and All keys available\n",
    "628956\n",
    "934856\n",
    "1063957\n",
    "1063957\n",
    "\n",
    "#2010>x>2000\n",
    "718266\n",
    "954290\n",
    "1292991\n",
    "1292991\n",
    "\n",
    "# x>2000\n",
    "1644214\n",
    "1922721\n",
    "2620722\n",
    "2620722"
   ]
  },
  {
   "cell_type": "code",
   "execution_count": null,
   "metadata": {
    "collapsed": true
   },
   "outputs": [],
   "source": [
    "## Now raw data is ready. Next steps:\n",
    "# 1.Split dataset yearly, for example papers from 2000-2010. \n",
    "# 2.Filter them with the following:\n",
    "##       *All the keys available!!\n",
    "##       *Avg citations per year > 5 OR total citation per/of author(s) > 150. (1st option is better for now)\n",
    "# 3.Construct the graph (edge if they both cite same paper(s)) and find out their yearly\n",
    "## citations for the following years (2010-2017)"
   ]
  },
  {
   "cell_type": "code",
   "execution_count": 87,
   "metadata": {},
   "outputs": [
    {
     "name": "stdout",
     "output_type": "stream",
     "text": [
      "{'title': 'On the Existence of Rainbow 4-Term Arithmetic Progressions', 'references': ['160bb414-f728-4e60-b142-2617a9fe657c', '37d5f030-3bf6-4af8-98ba-8e2b934c8fc9', 'b7ab15f2-1e86-4e3c-ac76-99dfb80dcbda'], 'venue': 'Graphs and Combinatorics', 'year': 2007, 'authors': ['David Conlon', 'Veselin Jungic', 'Radoš Radoičić'], 'abstract': 'For infinitely many natural numbers n, we construct 4-colorings of [n] \\xa0=\\xa0 {1, 2, ..., n}, with equinumerous color classes, that contain no 4-term arithmetic progression whose elements are colored in distinct colors. This result solves an open problem of Jungic et al. (Comb Probab Comput 12:599–620, 2003) Axenovich and Fon-der-Flaass (Electron J Comb 11:R1, 2004).', 'id': 'fa164463-ab8a-4e51-8dec-b552d6fc1ee1'}\n"
     ]
    }
   ],
   "source": [
    "print(dict_ids[list(dict_ids.keys())[0]])"
   ]
  },
  {
   "cell_type": "code",
   "execution_count": 97,
   "metadata": {},
   "outputs": [
    {
     "name": "stdout",
     "output_type": "stream",
     "text": [
      "30685\n",
      "30203\n"
     ]
    }
   ],
   "source": [
    "## Find out edges, by looking at common references\n",
    "edge_ids = {}\n",
    "number_of_edges = 0\n",
    "keys = avg_citation_id.keys()\n",
    "print(len(keys))\n",
    "for key in keys:\n",
    "    for ref in dict_ids[key]['references']:\n",
    "        for cited in id_citedby[ref]:\n",
    "            if cited in keys and cited != key:\n",
    "                if key in edge_ids.keys():\n",
    "                    edge_ids[key].append(cited)\n",
    "                else:\n",
    "                    edge_ids[key] = [cited]\n",
    "            #common_refs = list(set(dict_ids[key1]['references']) & set(dict_ids[key2]['references']))\n",
    "                \n",
    "print(len(edge_ids.keys()))"
   ]
  },
  {
   "cell_type": "code",
   "execution_count": 129,
   "metadata": {
    "collapsed": true
   },
   "outputs": [],
   "source": [
    "## Now construct the graph!! (only ids from avg_citation_id)\n",
    "import networkx as nx\n",
    "\n",
    "G=nx.Graph()\n",
    "\n",
    "G.add_nodes_from(avg_citation_id.keys())\n",
    "\n",
    "for key in edge_ids.keys():\n",
    "    for neighbor in edge_ids[key]:\n",
    "        G.add_edge(key,neighbor)"
   ]
  },
  {
   "cell_type": "code",
   "execution_count": 123,
   "metadata": {
    "collapsed": true
   },
   "outputs": [],
   "source": [
    "#Write the graph\n",
    "nx.info(G)\n",
    "nx.write_gpickle(G,\"CITATION_GRAPH.gpickle\")"
   ]
  },
  {
   "cell_type": "code",
   "execution_count": 1,
   "metadata": {},
   "outputs": [
    {
     "data": {
      "text/plain": [
       "'Name: \\nType: Graph\\nNumber of nodes: 30685\\nNumber of edges: 2765946\\nAverage degree: 180.2800'"
      ]
     },
     "execution_count": 1,
     "metadata": {},
     "output_type": "execute_result"
    }
   ],
   "source": [
    "import networkx as nx\n",
    "G = nx.read_gpickle(\"CITATION_GRAPH.gpickle\")\n",
    "nx.info(G)"
   ]
  },
  {
   "cell_type": "code",
   "execution_count": 2,
   "metadata": {},
   "outputs": [
    {
     "ename": "NameError",
     "evalue": "name 'plt' is not defined",
     "output_type": "error",
     "traceback": [
      "\u001b[0;31m---------------------------------------------------------------------------\u001b[0m",
      "\u001b[0;31mNameError\u001b[0m                                 Traceback (most recent call last)",
      "\u001b[0;32m<ipython-input-2-48af9cfc45ea>\u001b[0m in \u001b[0;36m<module>\u001b[0;34m()\u001b[0m\n\u001b[1;32m      1\u001b[0m \u001b[0mnx\u001b[0m\u001b[0;34m.\u001b[0m\u001b[0mdraw\u001b[0m\u001b[0;34m(\u001b[0m\u001b[0mG\u001b[0m\u001b[0;34m)\u001b[0m\u001b[0;34m\u001b[0m\u001b[0m\n\u001b[1;32m      2\u001b[0m \u001b[0;31m#plt.savefig(\"graph.png\", dpi = 1000)\u001b[0m\u001b[0;34m\u001b[0m\u001b[0;34m\u001b[0m\u001b[0m\n\u001b[0;32m----> 3\u001b[0;31m \u001b[0mplt\u001b[0m\u001b[0;34m.\u001b[0m\u001b[0msavefig\u001b[0m\u001b[0;34m(\u001b[0m\u001b[0;34m'graph.pdf'\u001b[0m\u001b[0;34m)\u001b[0m\u001b[0;34m\u001b[0m\u001b[0m\n\u001b[0m",
      "\u001b[0;31mNameError\u001b[0m: name 'plt' is not defined"
     ]
    }
   ],
   "source": [
    "nx.draw(G)\n",
    "#plt.savefig(\"graph.png\", dpi = 1000)\n",
    "plt.savefig('graph.pdf')"
   ]
  },
  {
   "cell_type": "code",
   "execution_count": null,
   "metadata": {
    "collapsed": true
   },
   "outputs": [],
   "source": []
  }
 ],
 "metadata": {
  "kernelspec": {
   "display_name": "Python 3",
   "language": "python",
   "name": "python3"
  },
  "language_info": {
   "codemirror_mode": {
    "name": "ipython",
    "version": 3
   },
   "file_extension": ".py",
   "mimetype": "text/x-python",
   "name": "python",
   "nbconvert_exporter": "python",
   "pygments_lexer": "ipython3",
   "version": "3.4.3"
  }
 },
 "nbformat": 4,
 "nbformat_minor": 2
}
